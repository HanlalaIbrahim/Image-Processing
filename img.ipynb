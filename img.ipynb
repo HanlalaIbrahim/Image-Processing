{
 "cells": [
  {
   "cell_type": "markdown",
   "id": "a720c972",
   "metadata": {},
   "source": [
    "#  image processing"
   ]
  },
  {
   "cell_type": "code",
   "execution_count": 1,
   "id": "0ea284d1",
   "metadata": {},
   "outputs": [],
   "source": [
    "import cv2"
   ]
  },
  {
   "cell_type": "code",
   "execution_count": 2,
   "id": "a7237926",
   "metadata": {},
   "outputs": [],
   "source": [
    "img=cv2.imread('OIP.jfif')"
   ]
  },
  {
   "cell_type": "code",
   "execution_count": 3,
   "id": "cb767b69",
   "metadata": {},
   "outputs": [
    {
     "data": {
      "text/plain": [
       "array([[[224, 159,  85],\n",
       "        [223, 158,  84],\n",
       "        [223, 155,  80],\n",
       "        ...,\n",
       "        [194, 206, 230],\n",
       "        [135, 153, 184],\n",
       "        [164, 185, 217]],\n",
       "\n",
       "       [[226, 164,  94],\n",
       "        [209, 147,  77],\n",
       "        [219, 154,  85],\n",
       "        ...,\n",
       "        [175, 192, 213],\n",
       "        [140, 159, 186],\n",
       "        [194, 216, 244]],\n",
       "\n",
       "       [[204, 150,  85],\n",
       "        [211, 157,  94],\n",
       "        [204, 150,  87],\n",
       "        ...,\n",
       "        [121, 146, 162],\n",
       "        [106, 130, 150],\n",
       "        [132, 155, 177]],\n",
       "\n",
       "       ...,\n",
       "\n",
       "       [[255, 255, 247],\n",
       "        [244, 239, 236],\n",
       "        [251, 253, 255],\n",
       "        ...,\n",
       "        [  7, 192, 236],\n",
       "        [ 23, 206, 248],\n",
       "        [ 21, 207, 248]],\n",
       "\n",
       "       [[255, 255, 248],\n",
       "        [246, 241, 238],\n",
       "        [250, 252, 255],\n",
       "        ...,\n",
       "        [ 19, 202, 244],\n",
       "        [ 26, 208, 250],\n",
       "        [ 25, 208, 250]],\n",
       "\n",
       "       [[255, 251, 242],\n",
       "        [255, 255, 252],\n",
       "        [249, 251, 255],\n",
       "        ...,\n",
       "        [ 15, 197, 239],\n",
       "        [ 29, 211, 253],\n",
       "        [ 29, 211, 253]]], dtype=uint8)"
      ]
     },
     "execution_count": 3,
     "metadata": {},
     "output_type": "execute_result"
    }
   ],
   "source": [
    "img"
   ]
  },
  {
   "cell_type": "code",
   "execution_count": 4,
   "id": "0acc61a1",
   "metadata": {},
   "outputs": [],
   "source": [
    "cv2.imshow(\"One Piece\",img)\n",
    "cv2.waitKey(2000)\n",
    "cv2.destroyAllWindows()"
   ]
  },
  {
   "cell_type": "code",
   "execution_count": 5,
   "id": "cd00139e",
   "metadata": {},
   "outputs": [],
   "source": [
    "img=cv2.imread('C:/Users/aedpu/Downloads/1295574.png')"
   ]
  },
  {
   "cell_type": "code",
   "execution_count": 6,
   "id": "77f24225",
   "metadata": {},
   "outputs": [],
   "source": [
    "cv2.imshow(\"Nebula\",img)\n",
    "cv2.waitKey(20000)\n",
    "cv2.destroyAllWindows()"
   ]
  },
  {
   "cell_type": "code",
   "execution_count": 9,
   "id": "97d7196d",
   "metadata": {},
   "outputs": [],
   "source": [
    "img=cv2.imread('C:/Users/aedpu/OneDrive/Pictures/Paint/Untitled.png')"
   ]
  },
  {
   "cell_type": "code",
   "execution_count": 10,
   "id": "efe7c0dc",
   "metadata": {},
   "outputs": [],
   "source": [
    "cv2.imshow(\"Paint\",img)\n",
    "cv2.waitKey(20000)\n",
    "cv2.destroyAllWindows()"
   ]
  },
  {
   "cell_type": "code",
   "execution_count": 11,
   "id": "992cbd95",
   "metadata": {},
   "outputs": [
    {
     "data": {
      "text/plain": [
       "array([[[  0,   0, 237],\n",
       "        [  0,   0, 237],\n",
       "        [  0,   0, 237],\n",
       "        ...,\n",
       "        [255,   0,   0],\n",
       "        [255,   0,   0],\n",
       "        [255,   0,   0]],\n",
       "\n",
       "       [[  0,   0, 237],\n",
       "        [  0,   0, 237],\n",
       "        [  0,   0, 237],\n",
       "        ...,\n",
       "        [255,   0,   0],\n",
       "        [255,   0,   0],\n",
       "        [255,   0,   0]],\n",
       "\n",
       "       [[  0,   0, 237],\n",
       "        [  0,   0, 237],\n",
       "        [  0,   0, 237],\n",
       "        ...,\n",
       "        [255,   0,   0],\n",
       "        [255,   0,   0],\n",
       "        [255,   0,   0]],\n",
       "\n",
       "       ...,\n",
       "\n",
       "       [[  0,   0, 237],\n",
       "        [  0,   0, 237],\n",
       "        [  0,   0, 237],\n",
       "        ...,\n",
       "        [255,   0,   0],\n",
       "        [255,   0,   0],\n",
       "        [255,   0,   0]],\n",
       "\n",
       "       [[  0,   0, 237],\n",
       "        [  0,   0, 237],\n",
       "        [  0,   0, 237],\n",
       "        ...,\n",
       "        [255,   0,   0],\n",
       "        [255,   0,   0],\n",
       "        [255,   0,   0]],\n",
       "\n",
       "       [[  0,   0, 237],\n",
       "        [  0,   0, 237],\n",
       "        [  0,   0, 237],\n",
       "        ...,\n",
       "        [255,   0,   0],\n",
       "        [255,   0,   0],\n",
       "        [255,   0,   0]]], dtype=uint8)"
      ]
     },
     "execution_count": 11,
     "metadata": {},
     "output_type": "execute_result"
    }
   ],
   "source": [
    "img\n"
   ]
  },
  {
   "cell_type": "code",
   "execution_count": 14,
   "id": "bd47ec7d",
   "metadata": {},
   "outputs": [],
   "source": [
    "img=cv2.imread('C:/Users/aedpu/OneDrive/Pictures/Paint/Untitled.png',0)"
   ]
  },
  {
   "cell_type": "code",
   "execution_count": 15,
   "id": "4f888217",
   "metadata": {},
   "outputs": [],
   "source": [
    "cv2.imshow(\"Paint_gray\",img)\n",
    "cv2.waitKey(20000)\n",
    "cv2.destroyAllWindows()"
   ]
  },
  {
   "cell_type": "code",
   "execution_count": null,
   "id": "1ee0a332",
   "metadata": {},
   "outputs": [],
   "source": []
  }
 ],
 "metadata": {
  "kernelspec": {
   "display_name": "Python 3 (ipykernel)",
   "language": "python",
   "name": "python3"
  },
  "language_info": {
   "codemirror_mode": {
    "name": "ipython",
    "version": 3
   },
   "file_extension": ".py",
   "mimetype": "text/x-python",
   "name": "python",
   "nbconvert_exporter": "python",
   "pygments_lexer": "ipython3",
   "version": "3.9.16"
  }
 },
 "nbformat": 4,
 "nbformat_minor": 5
}
