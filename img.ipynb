{
 "cells": [
  {
   "cell_type": "markdown",
   "id": "8364d08b",
   "metadata": {},
   "source": [
    "# Save grey  scale image"
   ]
  },
  {
   "cell_type": "code",
   "execution_count": 1,
   "id": "b32bb42e",
   "metadata": {},
   "outputs": [],
   "source": [
    "import cv2"
   ]
  },
  {
   "cell_type": "code",
   "execution_count": 2,
   "id": "8e58da5b",
   "metadata": {},
   "outputs": [],
   "source": [
    "img=cv2.imread(\"marguerit.jpg\",0)"
   ]
  },
  {
   "cell_type": "code",
   "execution_count": 3,
   "id": "aeaa5476",
   "metadata": {},
   "outputs": [],
   "source": [
    "cv2.imshow(\"img\",img)\n",
    "cv2.waitKey(0)\n",
    "cv2.destroyAllWindows()"
   ]
  },
  {
   "cell_type": "code",
   "execution_count": 4,
   "id": "9972d346",
   "metadata": {},
   "outputs": [
    {
     "data": {
      "text/plain": [
       "True"
      ]
     },
     "execution_count": 4,
     "metadata": {},
     "output_type": "execute_result"
    }
   ],
   "source": [
    "cv2.imwrite(\"C:/Users/CSES134/Han_cse/grey.jpg\",img)"
   ]
  },
  {
   "cell_type": "markdown",
   "id": "25e912f7",
   "metadata": {},
   "source": [
    "# shape\n"
   ]
  },
  {
   "cell_type": "code",
   "execution_count": 4,
   "id": "cc028ea4",
   "metadata": {},
   "outputs": [],
   "source": [
    "import numpy as np"
   ]
  },
  {
   "cell_type": "code",
   "execution_count": 5,
   "id": "12c96f42",
   "metadata": {},
   "outputs": [],
   "source": [
    "import cv2"
   ]
  },
  {
   "cell_type": "code",
   "execution_count": 6,
   "id": "c60f4437",
   "metadata": {},
   "outputs": [],
   "source": [
    "shp = img.shape"
   ]
  },
  {
   "cell_type": "code",
   "execution_count": 7,
   "id": "7f25d0e0",
   "metadata": {},
   "outputs": [
    {
     "name": "stdout",
     "output_type": "stream",
     "text": [
      "(340, 522)\n"
     ]
    }
   ],
   "source": [
    "print(shp)"
   ]
  },
  {
   "cell_type": "markdown",
   "id": "49aafd8a",
   "metadata": {},
   "source": [
    "#  Size of an image"
   ]
  },
  {
   "cell_type": "code",
   "execution_count": 8,
   "id": "b9b75e7a",
   "metadata": {},
   "outputs": [],
   "source": [
    "sz = img.size"
   ]
  },
  {
   "cell_type": "code",
   "execution_count": 9,
   "id": "4f1ea75e",
   "metadata": {},
   "outputs": [
    {
     "name": "stdout",
     "output_type": "stream",
     "text": [
      "177480\n"
     ]
    }
   ],
   "source": [
    "print(sz)"
   ]
  },
  {
   "cell_type": "markdown",
   "id": "f42f1238",
   "metadata": {},
   "source": [
    "# Value of the pixel"
   ]
  },
  {
   "cell_type": "code",
   "execution_count": 10,
   "id": "a60f7f80",
   "metadata": {},
   "outputs": [],
   "source": [
    "px = img[233,140]"
   ]
  },
  {
   "cell_type": "code",
   "execution_count": 11,
   "id": "aaf0cdd6",
   "metadata": {},
   "outputs": [
    {
     "name": "stdout",
     "output_type": "stream",
     "text": [
      "129\n"
     ]
    }
   ],
   "source": [
    "print(px)"
   ]
  },
  {
   "cell_type": "markdown",
   "id": "8cd241c6",
   "metadata": {},
   "source": [
    "# ROI (Region Of Intrest)"
   ]
  },
  {
   "cell_type": "code",
   "execution_count": 12,
   "id": "5edbbdd6",
   "metadata": {},
   "outputs": [
    {
     "data": {
      "text/plain": [
       "array([], shape=(0, 0), dtype=uint8)"
      ]
     },
     "execution_count": 12,
     "metadata": {},
     "output_type": "execute_result"
    }
   ],
   "source": [
    "roi = img[1:75, 1:75]\n",
    "img[200:175,200:175]"
   ]
  },
  {
   "cell_type": "markdown",
   "id": "615433f8",
   "metadata": {},
   "source": [
    "# Split colours"
   ]
  },
  {
   "cell_type": "code",
   "execution_count": 13,
   "id": "04a80feb",
   "metadata": {},
   "outputs": [
    {
     "ename": "ValueError",
     "evalue": "not enough values to unpack (expected 3, got 1)",
     "output_type": "error",
     "traceback": [
      "\u001b[1;31m---------------------------------------------------------------------------\u001b[0m",
      "\u001b[1;31mValueError\u001b[0m                                Traceback (most recent call last)",
      "Cell \u001b[1;32mIn[13], line 1\u001b[0m\n\u001b[1;32m----> 1\u001b[0m b,g,r \u001b[38;5;241m=\u001b[39m cv2\u001b[38;5;241m.\u001b[39msplit(img)\n\u001b[0;32m      2\u001b[0m cv2\u001b[38;5;241m.\u001b[39mimshow(\u001b[38;5;124m\"\u001b[39m\u001b[38;5;124mb\u001b[39m\u001b[38;5;124m\"\u001b[39m,b)\n\u001b[0;32m      3\u001b[0m cv2\u001b[38;5;241m.\u001b[39mwaitKey(\u001b[38;5;241m0\u001b[39m)\n",
      "\u001b[1;31mValueError\u001b[0m: not enough values to unpack (expected 3, got 1)"
     ]
    }
   ],
   "source": [
    "b,g,r = cv2.split(img)\n",
    "cv2.imshow(\"b\",b)\n",
    "cv2.waitKey(0)\n",
    "cv2.imshow(\"g\",g)\n",
    "cv2.waitKey(0)\n",
    "cv2.imshow(\"r\",r)\n",
    "cv2.waitKey(0)"
   ]
  },
  {
   "cell_type": "code",
   "execution_count": null,
   "id": "d1ce120c",
   "metadata": {},
   "outputs": [],
   "source": []
  },
  {
   "cell_type": "code",
   "execution_count": null,
   "id": "a2769933",
   "metadata": {},
   "outputs": [],
   "source": []
  }
 ],
 "metadata": {
  "kernelspec": {
   "display_name": "Python 3 (ipykernel)",
   "language": "python",
   "name": "python3"
  },
  "language_info": {
   "codemirror_mode": {
    "name": "ipython",
    "version": 3
   },
   "file_extension": ".py",
   "mimetype": "text/x-python",
   "name": "python",
   "nbconvert_exporter": "python",
   "pygments_lexer": "ipython3",
   "version": "3.9.16"
  }
 },
 "nbformat": 4,
 "nbformat_minor": 5
}
