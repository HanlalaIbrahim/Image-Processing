{
 "cells": [
  {
   "cell_type": "code",
   "execution_count": 1,
   "id": "63cf51b9",
   "metadata": {},
   "outputs": [],
   "source": [
    "import cv2\n",
    "import numpy as np"
   ]
  },
  {
   "cell_type": "code",
   "execution_count": 2,
   "id": "98c818ce",
   "metadata": {},
   "outputs": [],
   "source": [
    "img = cv2.imread(\"img.png\")"
   ]
  },
  {
   "cell_type": "code",
   "execution_count": 3,
   "id": "9eb326e7",
   "metadata": {},
   "outputs": [],
   "source": [
    "kernal = np.ones((3,3),np.uint8)"
   ]
  },
  {
   "cell_type": "markdown",
   "id": "152dd005",
   "metadata": {},
   "source": [
    "## Erosion"
   ]
  },
  {
   "cell_type": "code",
   "execution_count": 4,
   "id": "aaacb620",
   "metadata": {},
   "outputs": [],
   "source": [
    "erosion = cv2.erode(img,kernal,iterations=7)"
   ]
  },
  {
   "cell_type": "code",
   "execution_count": 5,
   "id": "e277aa7f",
   "metadata": {},
   "outputs": [
    {
     "data": {
      "text/plain": [
       "-1"
      ]
     },
     "execution_count": 5,
     "metadata": {},
     "output_type": "execute_result"
    }
   ],
   "source": [
    "cv2.imshow(\"orginal\",img)\n",
    "cv2.waitKey(0)\n",
    "cv2.imshow(\"erosion\",erosion)\n",
    "cv2.waitKey(0)"
   ]
  },
  {
   "cell_type": "markdown",
   "id": "bff863a4",
   "metadata": {},
   "source": [
    "## Dilation"
   ]
  },
  {
   "cell_type": "code",
   "execution_count": 6,
   "id": "cc42dd11",
   "metadata": {},
   "outputs": [],
   "source": [
    "dilation=cv2.dilate(img,kernal,iterations=3)"
   ]
  },
  {
   "cell_type": "code",
   "execution_count": 7,
   "id": "d5509a5f",
   "metadata": {},
   "outputs": [
    {
     "data": {
      "text/plain": [
       "-1"
      ]
     },
     "execution_count": 7,
     "metadata": {},
     "output_type": "execute_result"
    }
   ],
   "source": [
    "cv2.imshow(\"orginal\",img)\n",
    "cv2.waitKey(0)\n",
    "cv2.imshow(\"dialtion\",dilation)\n",
    "cv2.waitKey(0)"
   ]
  },
  {
   "cell_type": "markdown",
   "id": "1ec5ef4e",
   "metadata": {},
   "source": [
    "## Morphological Opening"
   ]
  },
  {
   "cell_type": "code",
   "execution_count": null,
   "id": "668a5721",
   "metadata": {},
   "outputs": [],
   "source": []
  }
 ],
 "metadata": {
  "kernelspec": {
   "display_name": "Python 3 (ipykernel)",
   "language": "python",
   "name": "python3"
  },
  "language_info": {
   "codemirror_mode": {
    "name": "ipython",
    "version": 3
   },
   "file_extension": ".py",
   "mimetype": "text/x-python",
   "name": "python",
   "nbconvert_exporter": "python",
   "pygments_lexer": "ipython3",
   "version": "3.9.16"
  }
 },
 "nbformat": 4,
 "nbformat_minor": 5
}
