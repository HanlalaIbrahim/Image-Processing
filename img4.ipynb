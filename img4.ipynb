{
 "cells": [
  {
   "cell_type": "code",
   "execution_count": 1,
   "id": "39f0943d",
   "metadata": {},
   "outputs": [],
   "source": [
    "import cv2\n",
    "import numpy as np"
   ]
  },
  {
   "cell_type": "markdown",
   "id": "9d66c9bf",
   "metadata": {},
   "source": [
    "# Reading a image"
   ]
  },
  {
   "cell_type": "code",
   "execution_count": 2,
   "id": "51f66b9a",
   "metadata": {},
   "outputs": [],
   "source": [
    "img = cv2.imread(\"weekend1.jpg\")"
   ]
  },
  {
   "cell_type": "markdown",
   "id": "d755d7f0",
   "metadata": {},
   "source": [
    "# Shape of image"
   ]
  },
  {
   "cell_type": "code",
   "execution_count": 3,
   "id": "5bb73021",
   "metadata": {},
   "outputs": [
    {
     "name": "stdout",
     "output_type": "stream",
     "text": [
      "(600, 600, 3)\n"
     ]
    }
   ],
   "source": [
    "print(img.shape)"
   ]
  },
  {
   "cell_type": "markdown",
   "id": "7f4d77d4",
   "metadata": {},
   "source": [
    "# Resizing image"
   ]
  },
  {
   "cell_type": "code",
   "execution_count": 4,
   "id": "ed044983",
   "metadata": {},
   "outputs": [],
   "source": [
    "img_res = cv2.resize(img,None,fx = 2,fy = 2, interpolation  = cv2.INTER_LINEAR)"
   ]
  },
  {
   "cell_type": "markdown",
   "id": "d49d2bda",
   "metadata": {},
   "source": [
    "# Resizing Interpolation Method\n",
    "          \n",
    "          1.cv2.INTER_CUBIC\n",
    "          2.cv2.INTER_AREA"
   ]
  },
  {
   "cell_type": "code",
   "execution_count": 5,
   "id": "8e8a5af4",
   "metadata": {},
   "outputs": [
    {
     "name": "stdout",
     "output_type": "stream",
     "text": [
      "(1200, 1200, 3)\n"
     ]
    }
   ],
   "source": [
    "print(img_res.shape)"
   ]
  },
  {
   "cell_type": "code",
   "execution_count": 6,
   "id": "9f6f1f6b",
   "metadata": {},
   "outputs": [
    {
     "data": {
      "text/plain": [
       "-1"
      ]
     },
     "execution_count": 6,
     "metadata": {},
     "output_type": "execute_result"
    }
   ],
   "source": [
    "cv2.imshow(\"Orginal\",img)\n",
    "cv2.waitKey(0)\n",
    "cv2.imshow(\"Resize\",img_res)\n",
    "cv2.waitKey(0)"
   ]
  },
  {
   "cell_type": "markdown",
   "id": "99ef09e4",
   "metadata": {},
   "source": [
    "#  Another  Resizing way"
   ]
  },
  {
   "cell_type": "code",
   "execution_count": 7,
   "id": "1a81e7ea",
   "metadata": {},
   "outputs": [],
   "source": [
    "img_res2 = cv2.resize(img,(600,600))"
   ]
  },
  {
   "cell_type": "code",
   "execution_count": 8,
   "id": "17296f5c",
   "metadata": {},
   "outputs": [
    {
     "data": {
      "text/plain": [
       "-1"
      ]
     },
     "execution_count": 8,
     "metadata": {},
     "output_type": "execute_result"
    }
   ],
   "source": [
    "cv2.imshow(\"Orginal\",img)\n",
    "cv2.waitKey(0)\n",
    "cv2.imshow(\"Resize\",img_res2)\n",
    "cv2.waitKey(0)"
   ]
  },
  {
   "cell_type": "code",
   "execution_count": 9,
   "id": "27e7bfcf",
   "metadata": {},
   "outputs": [
    {
     "data": {
      "text/plain": [
       "True"
      ]
     },
     "execution_count": 9,
     "metadata": {},
     "output_type": "execute_result"
    }
   ],
   "source": [
    "cv2.imwrite(\"C:/Users/CSES134/Han_cse/weekend1.jpg\",img_res2)"
   ]
  },
  {
   "cell_type": "markdown",
   "id": "af0a5444",
   "metadata": {},
   "source": [
    "#  Image Smoothing   -  2D Convolution\n",
    "\n",
    "## Kernal\n"
   ]
  },
  {
   "cell_type": "code",
   "execution_count": 10,
   "id": "b1538ea8",
   "metadata": {},
   "outputs": [],
   "source": [
    "kernal = np.ones((10,10),float)/100"
   ]
  },
  {
   "cell_type": "markdown",
   "id": "13b81d41",
   "metadata": {},
   "source": [
    "## 2D Filter"
   ]
  },
  {
   "cell_type": "code",
   "execution_count": 11,
   "id": "7e1afe07",
   "metadata": {},
   "outputs": [],
   "source": [
    "tdf = cv2.filter2D(img,-1,kernal)"
   ]
  },
  {
   "cell_type": "markdown",
   "id": "c273d2b4",
   "metadata": {},
   "source": [
    "## 2D Filtering display"
   ]
  },
  {
   "cell_type": "code",
   "execution_count": 12,
   "id": "17e3e34a",
   "metadata": {},
   "outputs": [
    {
     "data": {
      "text/plain": [
       "-1"
      ]
     },
     "execution_count": 12,
     "metadata": {},
     "output_type": "execute_result"
    }
   ],
   "source": [
    "cv2.imshow(\"Orginal\",img)\n",
    "cv2.waitKey(0)\n",
    "cv2.imshow(\"blur\",tdf)\n",
    "cv2.waitKey(0)"
   ]
  },
  {
   "cell_type": "markdown",
   "id": "762ee0da",
   "metadata": {},
   "source": [
    "# Image Blurring - Averaging\n"
   ]
  },
  {
   "cell_type": "code",
   "execution_count": 13,
   "id": "c314d733",
   "metadata": {},
   "outputs": [],
   "source": [
    "avg = cv2.blur(img,(10,10))"
   ]
  },
  {
   "cell_type": "code",
   "execution_count": 14,
   "id": "abb08846",
   "metadata": {},
   "outputs": [
    {
     "data": {
      "text/plain": [
       "-1"
      ]
     },
     "execution_count": 14,
     "metadata": {},
     "output_type": "execute_result"
    }
   ],
   "source": [
    "cv2.imshow(\"Orginal\",img)\n",
    "cv2.waitKey(0)\n",
    "cv2.imshow(\"blur\",avg)\n",
    "cv2.waitKey(0)"
   ]
  },
  {
   "cell_type": "code",
   "execution_count": null,
   "id": "060ed638",
   "metadata": {},
   "outputs": [],
   "source": []
  }
 ],
 "metadata": {
  "kernelspec": {
   "display_name": "Python 3 (ipykernel)",
   "language": "python",
   "name": "python3"
  },
  "language_info": {
   "codemirror_mode": {
    "name": "ipython",
    "version": 3
   },
   "file_extension": ".py",
   "mimetype": "text/x-python",
   "name": "python",
   "nbconvert_exporter": "python",
   "pygments_lexer": "ipython3",
   "version": "3.9.16"
  }
 },
 "nbformat": 4,
 "nbformat_minor": 5
}
