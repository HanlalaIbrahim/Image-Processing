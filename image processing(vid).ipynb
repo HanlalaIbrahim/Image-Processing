{
 "cells": [
  {
   "cell_type": "code",
   "execution_count": 1,
   "id": "1a1e8435",
   "metadata": {},
   "outputs": [],
   "source": [
    "import cv2\n",
    "import numpy as np"
   ]
  },
  {
   "cell_type": "markdown",
   "id": "83cf3a8d",
   "metadata": {},
   "source": [
    "## Video Read"
   ]
  },
  {
   "cell_type": "code",
   "execution_count": 2,
   "id": "b05ca129",
   "metadata": {},
   "outputs": [],
   "source": [
    "vid = cv2.VideoCapture(\"videoplayback.mp4\")"
   ]
  },
  {
   "cell_type": "markdown",
   "id": "8cd25efb",
   "metadata": {},
   "source": [
    "##  Displaying the Video"
   ]
  },
  {
   "cell_type": "code",
   "execution_count": 3,
   "id": "bb3c5039",
   "metadata": {},
   "outputs": [],
   "source": [
    "while(web.isOpened()):\n",
    "        ret, frame = vid.read()\n",
    "        cv2.imshow(\"orgin\",frame)\n",
    "        if cv2.waitKey(1) & 0xFF == ord(\"q\"):\n",
    "            break\n",
    "            \n",
    "web.release()\n",
    "cv2.destroyAllWindows()"
   ]
  },
  {
   "cell_type": "markdown",
   "id": "76b2f2c5",
   "metadata": {},
   "source": [
    "## Web cam"
   ]
  },
  {
   "cell_type": "code",
   "execution_count": 4,
   "id": "17625a8a",
   "metadata": {},
   "outputs": [],
   "source": [
    "web = cv2.VideoCapture(0)"
   ]
  },
  {
   "cell_type": "code",
   "execution_count": 5,
   "id": "4c7fbae4",
   "metadata": {},
   "outputs": [],
   "source": [
    "while(web.isOpened()):\n",
    "        ret, frame = web.read()\n",
    "        cv2.imshow(\"orgin\",frame)\n",
    "        if cv2.waitKey(1) & 0xFF == ord(\"q\"):\n",
    "            break\n",
    "            \n",
    "web.release()\n",
    "cv2.destroyAllWindows()"
   ]
  },
  {
   "cell_type": "markdown",
   "id": "b8d759c8",
   "metadata": {},
   "source": [
    "## Gray scale"
   ]
  },
  {
   "cell_type": "code",
   "execution_count": 6,
   "id": "a5f64a29",
   "metadata": {},
   "outputs": [],
   "source": [
    "vid = cv2.VideoCapture(\"videoplayback.mp4\")"
   ]
  },
  {
   "cell_type": "code",
   "execution_count": null,
   "id": "2f2b33df",
   "metadata": {},
   "outputs": [],
   "source": []
  }
 ],
 "metadata": {
  "kernelspec": {
   "display_name": "Python 3 (ipykernel)",
   "language": "python",
   "name": "python3"
  },
  "language_info": {
   "codemirror_mode": {
    "name": "ipython",
    "version": 3
   },
   "file_extension": ".py",
   "mimetype": "text/x-python",
   "name": "python",
   "nbconvert_exporter": "python",
   "pygments_lexer": "ipython3",
   "version": "3.9.16"
  }
 },
 "nbformat": 4,
 "nbformat_minor": 5
}
