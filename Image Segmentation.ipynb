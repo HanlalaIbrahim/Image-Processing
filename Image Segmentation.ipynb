{
 "cells": [
  {
   "cell_type": "code",
   "execution_count": 1,
   "id": "151d7921",
   "metadata": {},
   "outputs": [],
   "source": [
    "import cv2\n",
    "import numpy as np"
   ]
  },
  {
   "cell_type": "code",
   "execution_count": 2,
   "id": "4689605f",
   "metadata": {},
   "outputs": [],
   "source": [
    "img = cv2.imread(\"hydrabad.jpg\")"
   ]
  },
  {
   "cell_type": "code",
   "execution_count": 3,
   "id": "55d65818",
   "metadata": {},
   "outputs": [
    {
     "data": {
      "text/plain": [
       "-1"
      ]
     },
     "execution_count": 3,
     "metadata": {},
     "output_type": "execute_result"
    }
   ],
   "source": [
    "cv2.imshow(\"Orginal\",img)\n",
    "cv2.waitKey(0)"
   ]
  },
  {
   "cell_type": "markdown",
   "id": "f7aeb465",
   "metadata": {},
   "source": [
    "## RGB Conversion"
   ]
  },
  {
   "cell_type": "code",
   "execution_count": 4,
   "id": "8ecf89e6",
   "metadata": {},
   "outputs": [],
   "source": [
    "imgrgb = cv2.cvtColor(img,cv2.COLOR_BGR2RGB)"
   ]
  },
  {
   "cell_type": "markdown",
   "id": "c5361708",
   "metadata": {},
   "source": [
    "## Reshape"
   ]
  },
  {
   "cell_type": "code",
   "execution_count": 5,
   "id": "fa625e1c",
   "metadata": {},
   "outputs": [],
   "source": [
    "vec = imgrgb.reshape((-1,3))"
   ]
  },
  {
   "cell_type": "markdown",
   "id": "2cd91c55",
   "metadata": {},
   "source": [
    "## Float Conversion"
   ]
  },
  {
   "cell_type": "code",
   "execution_count": 6,
   "id": "34aafa89",
   "metadata": {},
   "outputs": [],
   "source": [
    "vec= np.float32(vec)"
   ]
  },
  {
   "cell_type": "markdown",
   "id": "11fbe7e3",
   "metadata": {},
   "source": [
    "## Iteration Termination Criteria"
   ]
  },
  {
   "cell_type": "code",
   "execution_count": 7,
   "id": "5df98224",
   "metadata": {},
   "outputs": [],
   "source": [
    "criteria = (cv2.TERM_CRITERIA_EPS + cv2.TERM_CRITERIA_MAX_ITER, 50,0.85)"
   ]
  },
  {
   "cell_type": "markdown",
   "id": "e83aee30",
   "metadata": {},
   "source": [
    "## Cluster Conditions"
   ]
  },
  {
   "cell_type": "code",
   "execution_count": 8,
   "id": "49ed385f",
   "metadata": {},
   "outputs": [],
   "source": [
    "k = 6\n",
    "attempts = 30"
   ]
  },
  {
   "cell_type": "markdown",
   "id": "cfc79747",
   "metadata": {},
   "source": [
    "## K-Means Cluster"
   ]
  },
  {
   "cell_type": "code",
   "execution_count": 9,
   "id": "4d7862f3",
   "metadata": {},
   "outputs": [],
   "source": [
    "ret,label,center = cv2.kmeans(vec,k,None,criteria,attempts,cv2.KMEANS_PP_CENTERS)"
   ]
  },
  {
   "cell_type": "markdown",
   "id": "acf5edad",
   "metadata": {},
   "source": [
    "## Unit Conversion"
   ]
  },
  {
   "cell_type": "code",
   "execution_count": 10,
   "id": "a57ec340",
   "metadata": {},
   "outputs": [],
   "source": [
    "center = np.uint8(center)"
   ]
  },
  {
   "cell_type": "markdown",
   "id": "d69e9cd3",
   "metadata": {},
   "source": [
    "## Flattening and Reshape"
   ]
  },
  {
   "cell_type": "code",
   "execution_count": 11,
   "id": "1428b8ae",
   "metadata": {},
   "outputs": [],
   "source": [
    "res = center[label.flatten()]\n",
    "res_img = res.reshape((imgrgb.shape))"
   ]
  },
  {
   "cell_type": "markdown",
   "id": "40da47d6",
   "metadata": {},
   "source": [
    "## Original & Segmential Image"
   ]
  },
  {
   "cell_type": "code",
   "execution_count": 12,
   "id": "21baa074",
   "metadata": {},
   "outputs": [],
   "source": [
    "cv2.imshow(\"orginal\",img)\n",
    "cv2.imshow(\"Segmented\",res_img)\n",
    "\n",
    "if cv2.waitKey(0) & 0xff == 27:\n",
    "    cv2.destroyAllWindows()"
   ]
  },
  {
   "cell_type": "code",
   "execution_count": null,
   "id": "a8b4bbd3",
   "metadata": {},
   "outputs": [],
   "source": []
  }
 ],
 "metadata": {
  "kernelspec": {
   "display_name": "Python 3 (ipykernel)",
   "language": "python",
   "name": "python3"
  },
  "language_info": {
   "codemirror_mode": {
    "name": "ipython",
    "version": 3
   },
   "file_extension": ".py",
   "mimetype": "text/x-python",
   "name": "python",
   "nbconvert_exporter": "python",
   "pygments_lexer": "ipython3",
   "version": "3.9.16"
  }
 },
 "nbformat": 4,
 "nbformat_minor": 5
}
