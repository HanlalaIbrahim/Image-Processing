{
 "cells": [
  {
   "cell_type": "code",
   "execution_count": 1,
   "id": "5e0a41c3",
   "metadata": {},
   "outputs": [],
   "source": [
    "import cv2\n",
    "import numpy as np"
   ]
  },
  {
   "cell_type": "markdown",
   "id": "52e960ab",
   "metadata": {},
   "source": [
    "# Rotation\n"
   ]
  },
  {
   "cell_type": "code",
   "execution_count": 2,
   "id": "d6f623f3",
   "metadata": {},
   "outputs": [],
   "source": [
    "img = cv2.imread(\"penguin.jfif\")"
   ]
  },
  {
   "cell_type": "code",
   "execution_count": 3,
   "id": "d75ac809",
   "metadata": {},
   "outputs": [
    {
     "data": {
      "text/plain": [
       "-1"
      ]
     },
     "execution_count": 3,
     "metadata": {},
     "output_type": "execute_result"
    }
   ],
   "source": [
    "cv2.imshow(\"penguin\",img)\n",
    "cv2.waitKey(0)"
   ]
  },
  {
   "cell_type": "code",
   "execution_count": 4,
   "id": "ea7159cb",
   "metadata": {},
   "outputs": [
    {
     "name": "stdout",
     "output_type": "stream",
     "text": [
      "(666, 1000, 3)\n",
      "666\n",
      "1000\n"
     ]
    }
   ],
   "source": [
    "shape = img.shape\n",
    "print(shape)\n",
    "height,width = img.shape[:2]\n",
    "print(height)\n",
    "print(width)"
   ]
  },
  {
   "cell_type": "code",
   "execution_count": 5,
   "id": "37292814",
   "metadata": {},
   "outputs": [
    {
     "name": "stdout",
     "output_type": "stream",
     "text": [
      "(333.0, 500.0)\n"
     ]
    }
   ],
   "source": [
    "# get the center of the image\n",
    "center = (height/2,width/2)\n",
    "print(center)"
   ]
  },
  {
   "cell_type": "code",
   "execution_count": 6,
   "id": "12f3bac9",
   "metadata": {},
   "outputs": [
    {
     "name": "stdout",
     "output_type": "stream",
     "text": [
      "[[ 3.53553391e-01  3.53553391e-01  3.84900256e+01]\n",
      " [-3.53553391e-01  3.53553391e-01  4.40956584e+02]]\n"
     ]
    }
   ],
   "source": [
    "# using cv2.RotationMatrix2D() to get the rotation matrix\n",
    "rotate_matrix = cv2.getRotationMatrix2D(center=center, angle=45, scale=0.5)\n",
    "print(rotate_matrix)"
   ]
  },
  {
   "cell_type": "code",
   "execution_count": 7,
   "id": "92195809",
   "metadata": {},
   "outputs": [
    {
     "data": {
      "text/plain": [
       "-1"
      ]
     },
     "execution_count": 7,
     "metadata": {},
     "output_type": "execute_result"
    }
   ],
   "source": [
    "# rotate the image using cv2.warpAffine\n",
    "rotated_image = cv2.warpAffine(src=img, M=rotate_matrix, dsize=(width,height))\n",
    "\n",
    "cv2.imshow(\"orginal image\",img)\n",
    "cv2.waitKey(0)\n",
    "cv2.imshow(\"rotated image\",rotated_image)\n",
    "cv2.waitKey(0)"
   ]
  },
  {
   "cell_type": "markdown",
   "id": "19bd2c14",
   "metadata": {},
   "source": [
    "# Translation"
   ]
  },
  {
   "cell_type": "code",
   "execution_count": 8,
   "id": "feb23bc4",
   "metadata": {},
   "outputs": [],
   "source": [
    "tx, ty = width/300, height/400"
   ]
  },
  {
   "cell_type": "code",
   "execution_count": 10,
   "id": "3b3c7a37",
   "metadata": {},
   "outputs": [],
   "source": [
    "#create the translation matrix using tx and ty, it is a numpy array\n",
    "translation_matrix = np.array([[1,0,tx],[0,1,ty]])"
   ]
  },
  {
   "cell_type": "code",
   "execution_count": 12,
   "id": "f7809d8c",
   "metadata": {},
   "outputs": [],
   "source": [
    "#apply the translaion to the imatge\n",
    "translation_image = cv2.warpAffine(src=img, M=translation_matrix, dsize=(width,height))"
   ]
  },
  {
   "cell_type": "code",
   "execution_count": 13,
   "id": "6bbfccdd",
   "metadata": {},
   "outputs": [
    {
     "data": {
      "text/plain": [
       "-1"
      ]
     },
     "execution_count": 13,
     "metadata": {},
     "output_type": "execute_result"
    }
   ],
   "source": [
    "cv2.imshow(\"orginal image\",img)\n",
    "cv2.waitKey(0)\n",
    "cv2.imshow(\"translation image\",translation_image)\n",
    "cv2.waitKey(0)"
   ]
  },
  {
   "cell_type": "code",
   "execution_count": null,
   "id": "1746a30a",
   "metadata": {},
   "outputs": [],
   "source": []
  }
 ],
 "metadata": {
  "kernelspec": {
   "display_name": "Python 3 (ipykernel)",
   "language": "python",
   "name": "python3"
  },
  "language_info": {
   "codemirror_mode": {
    "name": "ipython",
    "version": 3
   },
   "file_extension": ".py",
   "mimetype": "text/x-python",
   "name": "python",
   "nbconvert_exporter": "python",
   "pygments_lexer": "ipython3",
   "version": "3.9.16"
  }
 },
 "nbformat": 4,
 "nbformat_minor": 5
}
