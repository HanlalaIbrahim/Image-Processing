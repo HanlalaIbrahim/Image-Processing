{
 "cells": [
  {
   "cell_type": "markdown",
   "id": "997a9442",
   "metadata": {},
   "source": [
    "# Arithmetic Operation"
   ]
  },
  {
   "cell_type": "code",
   "execution_count": 1,
   "id": "69647529",
   "metadata": {},
   "outputs": [],
   "source": [
    "import cv2\n",
    "import numpy as np"
   ]
  },
  {
   "cell_type": "code",
   "execution_count": 2,
   "id": "a05a5afe",
   "metadata": {},
   "outputs": [],
   "source": [
    "img1=cv2.imread(\"1.png\")\n",
    "img2=cv2.imread(\"2.png\")\n",
    "img3=cv2.imread(\"3.png\")\n"
   ]
  },
  {
   "cell_type": "code",
   "execution_count": 3,
   "id": "a661063e",
   "metadata": {},
   "outputs": [
    {
     "name": "stdout",
     "output_type": "stream",
     "text": [
      "(200, 200, 3)\n"
     ]
    }
   ],
   "source": [
    "sp=img1.shape\n",
    "print(sp)"
   ]
  },
  {
   "cell_type": "code",
   "execution_count": 4,
   "id": "0c762fb7",
   "metadata": {},
   "outputs": [
    {
     "name": "stdout",
     "output_type": "stream",
     "text": [
      "(200, 200, 3)\n"
     ]
    }
   ],
   "source": [
    "sp=img2.shape\n",
    "print(sp)"
   ]
  },
  {
   "cell_type": "code",
   "execution_count": 5,
   "id": "2c1c72ab",
   "metadata": {},
   "outputs": [
    {
     "name": "stdout",
     "output_type": "stream",
     "text": [
      "(200, 200, 3)\n"
     ]
    }
   ],
   "source": [
    "sp=img3.shape\n",
    "print(sp)"
   ]
  },
  {
   "cell_type": "code",
   "execution_count": 6,
   "id": "de065bb2",
   "metadata": {},
   "outputs": [
    {
     "data": {
      "text/plain": [
       "-1"
      ]
     },
     "execution_count": 6,
     "metadata": {},
     "output_type": "execute_result"
    }
   ],
   "source": [
    "cv2.imshow(\"img\",img1)\n",
    "cv2.waitKey(0)\n",
    "cv2.imshow(\"img\",img2)\n",
    "cv2.waitKey(0)\n",
    "cv2.imshow(\"img\",img3)\n",
    "cv2.waitKey(0)"
   ]
  },
  {
   "cell_type": "markdown",
   "id": "ed9ba778",
   "metadata": {},
   "source": [
    "# Add two image"
   ]
  },
  {
   "cell_type": "code",
   "execution_count": 7,
   "id": "dbe3b9ea",
   "metadata": {},
   "outputs": [],
   "source": [
    "imgAdd = cv2.addWeighted(img1,0.5,img2,0.5,1)"
   ]
  },
  {
   "cell_type": "code",
   "execution_count": 8,
   "id": "7d3af02b",
   "metadata": {},
   "outputs": [],
   "source": [
    "cv2.imshow(\"img1\",img1)\n",
    "cv2.waitKey(0)\n",
    "cv2.imshow(\"img2\",img2)\n",
    "cv2.waitKey(0)\n",
    "cv2.imshow(\"img1+img2\",imgAdd)\n",
    "cv2.waitKey(0)\n",
    "cv2.destroyAllWindows()"
   ]
  },
  {
   "cell_type": "markdown",
   "id": "7d42c43c",
   "metadata": {},
   "source": [
    "# Sub two image"
   ]
  },
  {
   "cell_type": "code",
   "execution_count": 9,
   "id": "06b6b16b",
   "metadata": {},
   "outputs": [],
   "source": [
    "imgSub = cv2.subtract(img1,img3)"
   ]
  },
  {
   "cell_type": "code",
   "execution_count": 10,
   "id": "4c2b7d73",
   "metadata": {},
   "outputs": [],
   "source": [
    "cv2.imshow(\"img1\",img1)\n",
    "cv2.waitKey(0)\n",
    "cv2.imshow(\"img3\",img3)\n",
    "cv2.waitKey(0)\n",
    "cv2.imshow(\"img1-img3\",imgSub)\n",
    "cv2.waitKey(0)\n",
    "cv2.destroyAllWindows()"
   ]
  },
  {
   "cell_type": "markdown",
   "id": "989cf654",
   "metadata": {},
   "source": [
    "# Bitwise operators"
   ]
  },
  {
   "cell_type": "markdown",
   "id": "29933672",
   "metadata": {},
   "source": [
    "# AND Operator"
   ]
  },
  {
   "cell_type": "code",
   "execution_count": 11,
   "id": "6e59a7de",
   "metadata": {},
   "outputs": [],
   "source": [
    "imgAnd = cv2.bitwise_and(img2,img3,mask=None)"
   ]
  },
  {
   "cell_type": "code",
   "execution_count": 12,
   "id": "c3dd33fe",
   "metadata": {},
   "outputs": [],
   "source": [
    "cv2.imshow(\"img2\",img2)\n",
    "cv2.waitKey(0)\n",
    "cv2.imshow(\"img3\",img3)\n",
    "cv2.waitKey(0)\n",
    "cv2.imshow(\"IMG AND\",imgAnd)\n",
    "cv2.waitKey(0)\n",
    "cv2.destroyAllWindows()"
   ]
  },
  {
   "cell_type": "markdown",
   "id": "a2319d5c",
   "metadata": {},
   "source": [
    "# Or operator"
   ]
  },
  {
   "cell_type": "code",
   "execution_count": 13,
   "id": "064df1bf",
   "metadata": {},
   "outputs": [],
   "source": [
    "imgOr = cv2.bitwise_or(img2,img3,mask=None)"
   ]
  },
  {
   "cell_type": "code",
   "execution_count": 14,
   "id": "7c3e4676",
   "metadata": {},
   "outputs": [],
   "source": [
    "cv2.imshow(\"img2\",img2)\n",
    "cv2.waitKey(0)\n",
    "cv2.imshow(\"img3\",img3)\n",
    "cv2.waitKey(0)\n",
    "cv2.imshow(\"IMG OR\",imgOr)\n",
    "cv2.waitKey(0)\n",
    "cv2.destroyAllWindows()"
   ]
  },
  {
   "cell_type": "markdown",
   "id": "31f30b5c",
   "metadata": {},
   "source": [
    "# NOT Operator"
   ]
  },
  {
   "cell_type": "code",
   "execution_count": 16,
   "id": "da9d7f3c",
   "metadata": {},
   "outputs": [],
   "source": [
    "imgNot = cv2.bitwise_not(img2,mask=None)"
   ]
  },
  {
   "cell_type": "code",
   "execution_count": 17,
   "id": "648d607f",
   "metadata": {},
   "outputs": [],
   "source": [
    "cv2.imshow(\"img2\",img2)\n",
    "cv2.waitKey(0)\n",
    "cv2.imshow(\"IMG NOT\",imgNot)\n",
    "cv2.waitKey(0)\n",
    "cv2.destroyAllWindows()"
   ]
  },
  {
   "cell_type": "markdown",
   "id": "5c9b399e",
   "metadata": {},
   "source": [
    "# XOR Operator"
   ]
  },
  {
   "cell_type": "code",
   "execution_count": 18,
   "id": "a63d1d07",
   "metadata": {},
   "outputs": [],
   "source": [
    "imgXor = cv2.bitwise_xor(img1,img2,mask=None)"
   ]
  },
  {
   "cell_type": "code",
   "execution_count": 19,
   "id": "b2c43f36",
   "metadata": {},
   "outputs": [],
   "source": [
    "cv2.imshow(\"img1\",img1)\n",
    "cv2.waitKey(0)\n",
    "cv2.imshow(\"img3\",img3)\n",
    "cv2.waitKey(0)\n",
    "cv2.imshow(\"IMG XOR\",imgXor)\n",
    "cv2.waitKey(0)\n",
    "cv2.destroyAllWindows()"
   ]
  },
  {
   "cell_type": "markdown",
   "id": "bf5fe5f4",
   "metadata": {},
   "source": [
    "# ROI (Region Of Intrest)"
   ]
  },
  {
   "cell_type": "code",
   "execution_count": 20,
   "id": "da22fd4d",
   "metadata": {},
   "outputs": [
    {
     "name": "stdout",
     "output_type": "stream",
     "text": [
      "(200, 200, 3)\n"
     ]
    }
   ],
   "source": [
    "sp = img2.shape\n",
    "print(sp)"
   ]
  },
  {
   "cell_type": "code",
   "execution_count": 21,
   "id": "f4f89433",
   "metadata": {},
   "outputs": [
    {
     "data": {
      "text/plain": [
       "-1"
      ]
     },
     "execution_count": 21,
     "metadata": {},
     "output_type": "execute_result"
    }
   ],
   "source": [
    "cv2.imshow(\"img 2\",img2)\n",
    "cv2.waitKey(0)\n"
   ]
  },
  {
   "cell_type": "code",
   "execution_count": 22,
   "id": "35f016b1",
   "metadata": {},
   "outputs": [],
   "source": [
    "roi=img2[10:90,10:90]"
   ]
  },
  {
   "cell_type": "code",
   "execution_count": 23,
   "id": "830a4555",
   "metadata": {},
   "outputs": [],
   "source": [
    "cv2.imshow(\"img2\",roi)\n",
    "cv2.waitKey(0)\n",
    "cv2.destroyAllWindows()"
   ]
  },
  {
   "cell_type": "code",
   "execution_count": 24,
   "id": "fc91a333",
   "metadata": {},
   "outputs": [
    {
     "data": {
      "text/plain": [
       "True"
      ]
     },
     "execution_count": 24,
     "metadata": {},
     "output_type": "execute_result"
    }
   ],
   "source": [
    "cv2.imwrite(\"img2(cut).png\",roi)"
   ]
  },
  {
   "cell_type": "code",
   "execution_count": null,
   "id": "626b8699",
   "metadata": {},
   "outputs": [],
   "source": []
  }
 ],
 "metadata": {
  "kernelspec": {
   "display_name": "Python 3 (ipykernel)",
   "language": "python",
   "name": "python3"
  },
  "language_info": {
   "codemirror_mode": {
    "name": "ipython",
    "version": 3
   },
   "file_extension": ".py",
   "mimetype": "text/x-python",
   "name": "python",
   "nbconvert_exporter": "python",
   "pygments_lexer": "ipython3",
   "version": "3.9.16"
  }
 },
 "nbformat": 4,
 "nbformat_minor": 5
}
