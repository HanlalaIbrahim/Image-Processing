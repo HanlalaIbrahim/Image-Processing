{
 "cells": [
  {
   "cell_type": "code",
   "execution_count": 1,
   "id": "63cf51b9",
   "metadata": {},
   "outputs": [],
   "source": [
    "import cv2\n",
    "import numpy as np"
   ]
  },
  {
   "cell_type": "code",
   "execution_count": 2,
   "id": "98c818ce",
   "metadata": {},
   "outputs": [],
   "source": [
    "img = cv2.imread(\"img.png\")"
   ]
  },
  {
   "cell_type": "code",
   "execution_count": 3,
   "id": "9eb326e7",
   "metadata": {},
   "outputs": [],
   "source": [
    "kernel = np.ones((3,3),np.uint8)"
   ]
  },
  {
   "cell_type": "markdown",
   "id": "152dd005",
   "metadata": {},
   "source": [
    "## Erosion"
   ]
  },
  {
   "cell_type": "code",
   "execution_count": 4,
   "id": "aaacb620",
   "metadata": {},
   "outputs": [],
   "source": [
    "erosion = cv2.erode(img,kernel,iterations=7)"
   ]
  },
  {
   "cell_type": "code",
   "execution_count": 5,
   "id": "e277aa7f",
   "metadata": {},
   "outputs": [
    {
     "data": {
      "text/plain": [
       "-1"
      ]
     },
     "execution_count": 5,
     "metadata": {},
     "output_type": "execute_result"
    }
   ],
   "source": [
    "cv2.imshow(\"orginal\",img)\n",
    "cv2.waitKey(0)\n",
    "cv2.imshow(\"erosion\",erosion)\n",
    "cv2.waitKey(0)"
   ]
  },
  {
   "cell_type": "markdown",
   "id": "bff863a4",
   "metadata": {},
   "source": [
    "## Dilation"
   ]
  },
  {
   "cell_type": "code",
   "execution_count": 6,
   "id": "cc42dd11",
   "metadata": {},
   "outputs": [],
   "source": [
    "dilation=cv2.dilate(img,kernel,iterations=3)"
   ]
  },
  {
   "cell_type": "code",
   "execution_count": 7,
   "id": "d5509a5f",
   "metadata": {},
   "outputs": [
    {
     "data": {
      "text/plain": [
       "-1"
      ]
     },
     "execution_count": 7,
     "metadata": {},
     "output_type": "execute_result"
    }
   ],
   "source": [
    "cv2.imshow(\"orginal\",img)\n",
    "cv2.waitKey(0)\n",
    "cv2.imshow(\"dialtion\",dilation)\n",
    "cv2.waitKey(0)"
   ]
  },
  {
   "cell_type": "markdown",
   "id": "1ec5ef4e",
   "metadata": {},
   "source": [
    "## Morphological Opening\n",
    "\n",
    "###     erosion followed by dilation"
   ]
  },
  {
   "cell_type": "code",
   "execution_count": 8,
   "id": "668a5721",
   "metadata": {},
   "outputs": [],
   "source": [
    "open = cv2.morphologyEx(img, cv2.MORPH_OPEN, kernel)"
   ]
  },
  {
   "cell_type": "code",
   "execution_count": 9,
   "id": "2d013b68",
   "metadata": {},
   "outputs": [
    {
     "data": {
      "text/plain": [
       "-1"
      ]
     },
     "execution_count": 9,
     "metadata": {},
     "output_type": "execute_result"
    }
   ],
   "source": [
    "cv2.imshow(\"orginal\",img)\n",
    "cv2.waitKey(0)\n",
    "cv2.imshow(\"MORPH OPEN\",open)\n",
    "cv2.waitKey(0)"
   ]
  },
  {
   "cell_type": "markdown",
   "id": "5ea3cb56",
   "metadata": {},
   "source": [
    "## Morphological Opeaning\n",
    "\n",
    "###     dilation followed by errosion"
   ]
  },
  {
   "cell_type": "code",
   "execution_count": 10,
   "id": "c02ed7e7",
   "metadata": {},
   "outputs": [],
   "source": [
    "close = cv2.morphologyEx(img, cv2.MORPH_CLOSE, kernel)"
   ]
  },
  {
   "cell_type": "code",
   "execution_count": 11,
   "id": "27289f78",
   "metadata": {},
   "outputs": [
    {
     "data": {
      "text/plain": [
       "-1"
      ]
     },
     "execution_count": 11,
     "metadata": {},
     "output_type": "execute_result"
    }
   ],
   "source": [
    "cv2.imshow(\"orginal\",img)\n",
    "cv2.waitKey(0)\n",
    "cv2.imshow(\"MORPH CLOSE\",close)\n",
    "cv2.waitKey(0)"
   ]
  },
  {
   "cell_type": "code",
   "execution_count": 12,
   "id": "b948cd53",
   "metadata": {},
   "outputs": [
    {
     "data": {
      "text/plain": [
       "-1"
      ]
     },
     "execution_count": 12,
     "metadata": {},
     "output_type": "execute_result"
    }
   ],
   "source": [
    "cv2.imshow(\"orginal\",img)\n",
    "cv2.waitKey(0)\n",
    "cv2.imshow(\"MORPH OPEN\",open)\n",
    "cv2.waitKey(0)\n",
    "cv2.imshow(\"MORPH CLOSE\",close)\n",
    "cv2.waitKey(0)"
   ]
  },
  {
   "cell_type": "markdown",
   "id": "91a822cd",
   "metadata": {},
   "source": [
    "## Morphological Gradient\n",
    "\n",
    "### errotion and dilation diffrence of both\n"
   ]
  },
  {
   "cell_type": "code",
   "execution_count": 13,
   "id": "7c556938",
   "metadata": {},
   "outputs": [],
   "source": [
    "gradient = cv2.morphologyEx(img, cv2.MORPH_GRADIENT, kernel)"
   ]
  },
  {
   "cell_type": "code",
   "execution_count": 14,
   "id": "05e86b5c",
   "metadata": {},
   "outputs": [
    {
     "data": {
      "text/plain": [
       "-1"
      ]
     },
     "execution_count": 14,
     "metadata": {},
     "output_type": "execute_result"
    }
   ],
   "source": [
    "cv2.imshow(\"orginal\",img)\n",
    "cv2.waitKey(0)\n",
    "cv2.imshow(\"MORPH GRADIENT\",gradient)\n",
    "cv2.waitKey(0)"
   ]
  },
  {
   "cell_type": "markdown",
   "id": "b3720187",
   "metadata": {},
   "source": [
    "## Top Hat\n",
    "\n",
    "### opening and diff. of orginal and opening"
   ]
  },
  {
   "cell_type": "code",
   "execution_count": 15,
   "id": "7254ed0e",
   "metadata": {},
   "outputs": [],
   "source": [
    "tophat = cv2.morphologyEx(img, cv2.MORPH_TOPHAT, kernel)"
   ]
  },
  {
   "cell_type": "code",
   "execution_count": 16,
   "id": "a8b0c182",
   "metadata": {},
   "outputs": [
    {
     "data": {
      "text/plain": [
       "-1"
      ]
     },
     "execution_count": 16,
     "metadata": {},
     "output_type": "execute_result"
    }
   ],
   "source": [
    "cv2.imshow(\"orginal\",img)\n",
    "cv2.waitKey(0)\n",
    "cv2.imshow(\"MORPH TOPHAT\",tophat)\n",
    "cv2.waitKey(0)"
   ]
  },
  {
   "cell_type": "markdown",
   "id": "58e9e11f",
   "metadata": {},
   "source": [
    "## Black Hat\n",
    "\n",
    "### opp of top hat"
   ]
  },
  {
   "cell_type": "code",
   "execution_count": 17,
   "id": "09c4d0d3",
   "metadata": {},
   "outputs": [],
   "source": [
    "blackhat = cv2.morphologyEx(img, cv2.MORPH_BLACKHAT, kernel)"
   ]
  },
  {
   "cell_type": "code",
   "execution_count": 18,
   "id": "8db98940",
   "metadata": {},
   "outputs": [
    {
     "data": {
      "text/plain": [
       "-1"
      ]
     },
     "execution_count": 18,
     "metadata": {},
     "output_type": "execute_result"
    }
   ],
   "source": [
    "cv2.imshow(\"orginal\",img)\n",
    "cv2.waitKey(0)\n",
    "cv2.imshow(\"MORPH BLACK HAT\",blackhat)\n",
    "cv2.waitKey(0)"
   ]
  },
  {
   "cell_type": "code",
   "execution_count": null,
   "id": "9ee51243",
   "metadata": {},
   "outputs": [],
   "source": []
  }
 ],
 "metadata": {
  "kernelspec": {
   "display_name": "Python 3 (ipykernel)",
   "language": "python",
   "name": "python3"
  },
  "language_info": {
   "codemirror_mode": {
    "name": "ipython",
    "version": 3
   },
   "file_extension": ".py",
   "mimetype": "text/x-python",
   "name": "python",
   "nbconvert_exporter": "python",
   "pygments_lexer": "ipython3",
   "version": "3.9.16"
  }
 },
 "nbformat": 4,
 "nbformat_minor": 5
}
